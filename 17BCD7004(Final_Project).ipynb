{
 "cells": [
  {
   "cell_type": "markdown",
   "metadata": {},
   "source": [
    "P S N Madhav 17BCD7004"
   ]
  },
  {
   "cell_type": "code",
   "execution_count": 40,
   "metadata": {},
   "outputs": [],
   "source": [
    "import pandas as pd\n",
    "import numpy as np"
   ]
  },
  {
   "cell_type": "code",
   "execution_count": 41,
   "metadata": {},
   "outputs": [
    {
     "data": {
      "text/html": [
       "<div>\n",
       "<style scoped>\n",
       "    .dataframe tbody tr th:only-of-type {\n",
       "        vertical-align: middle;\n",
       "    }\n",
       "\n",
       "    .dataframe tbody tr th {\n",
       "        vertical-align: top;\n",
       "    }\n",
       "\n",
       "    .dataframe thead th {\n",
       "        text-align: right;\n",
       "    }\n",
       "</style>\n",
       "<table border=\"1\" class=\"dataframe\">\n",
       "  <thead>\n",
       "    <tr style=\"text-align: right;\">\n",
       "      <th></th>\n",
       "      <th>year</th>\n",
       "      <th>month</th>\n",
       "      <th>day</th>\n",
       "      <th>temp high</th>\n",
       "      <th>tempavg</th>\n",
       "      <th>temp low</th>\n",
       "      <th>DP high</th>\n",
       "      <th>DPavg</th>\n",
       "      <th>DP low</th>\n",
       "      <th>humidity high</th>\n",
       "      <th>...</th>\n",
       "      <th>humidity low</th>\n",
       "      <th>SLP high</th>\n",
       "      <th>SLPavg</th>\n",
       "      <th>SLP low</th>\n",
       "      <th>visibility high</th>\n",
       "      <th>visibilityavg</th>\n",
       "      <th>visibilitylow</th>\n",
       "      <th>wind high</th>\n",
       "      <th>windavg</th>\n",
       "      <th>Rainfall</th>\n",
       "    </tr>\n",
       "  </thead>\n",
       "  <tbody>\n",
       "    <tr>\n",
       "      <th>0</th>\n",
       "      <td>2008</td>\n",
       "      <td>1</td>\n",
       "      <td>1</td>\n",
       "      <td>24</td>\n",
       "      <td>21</td>\n",
       "      <td>18</td>\n",
       "      <td>17</td>\n",
       "      <td>15</td>\n",
       "      <td>12</td>\n",
       "      <td>83</td>\n",
       "      <td>...</td>\n",
       "      <td>47</td>\n",
       "      <td>1015</td>\n",
       "      <td>1013</td>\n",
       "      <td>1011</td>\n",
       "      <td>5</td>\n",
       "      <td>4</td>\n",
       "      <td>1</td>\n",
       "      <td>19</td>\n",
       "      <td>8</td>\n",
       "      <td>0</td>\n",
       "    </tr>\n",
       "    <tr>\n",
       "      <th>1</th>\n",
       "      <td>2008</td>\n",
       "      <td>1</td>\n",
       "      <td>2</td>\n",
       "      <td>26</td>\n",
       "      <td>22</td>\n",
       "      <td>19</td>\n",
       "      <td>18</td>\n",
       "      <td>17</td>\n",
       "      <td>16</td>\n",
       "      <td>88</td>\n",
       "      <td>...</td>\n",
       "      <td>54</td>\n",
       "      <td>1016</td>\n",
       "      <td>1014</td>\n",
       "      <td>1012</td>\n",
       "      <td>5</td>\n",
       "      <td>4</td>\n",
       "      <td>1</td>\n",
       "      <td>11</td>\n",
       "      <td>2</td>\n",
       "      <td>0</td>\n",
       "    </tr>\n",
       "    <tr>\n",
       "      <th>2</th>\n",
       "      <td>2008</td>\n",
       "      <td>1</td>\n",
       "      <td>3</td>\n",
       "      <td>25</td>\n",
       "      <td>21</td>\n",
       "      <td>18</td>\n",
       "      <td>16</td>\n",
       "      <td>16</td>\n",
       "      <td>13</td>\n",
       "      <td>88</td>\n",
       "      <td>...</td>\n",
       "      <td>47</td>\n",
       "      <td>1017</td>\n",
       "      <td>1014</td>\n",
       "      <td>1006</td>\n",
       "      <td>5</td>\n",
       "      <td>4</td>\n",
       "      <td>0</td>\n",
       "      <td>19</td>\n",
       "      <td>10</td>\n",
       "      <td>1</td>\n",
       "    </tr>\n",
       "    <tr>\n",
       "      <th>3</th>\n",
       "      <td>2008</td>\n",
       "      <td>1</td>\n",
       "      <td>4</td>\n",
       "      <td>26</td>\n",
       "      <td>23</td>\n",
       "      <td>20</td>\n",
       "      <td>17</td>\n",
       "      <td>16</td>\n",
       "      <td>15</td>\n",
       "      <td>83</td>\n",
       "      <td>...</td>\n",
       "      <td>54</td>\n",
       "      <td>1016</td>\n",
       "      <td>1014</td>\n",
       "      <td>1013</td>\n",
       "      <td>5</td>\n",
       "      <td>5</td>\n",
       "      <td>4</td>\n",
       "      <td>14</td>\n",
       "      <td>11</td>\n",
       "      <td>0</td>\n",
       "    </tr>\n",
       "    <tr>\n",
       "      <th>4</th>\n",
       "      <td>2008</td>\n",
       "      <td>1</td>\n",
       "      <td>5</td>\n",
       "      <td>26</td>\n",
       "      <td>21</td>\n",
       "      <td>17</td>\n",
       "      <td>17</td>\n",
       "      <td>15</td>\n",
       "      <td>14</td>\n",
       "      <td>88</td>\n",
       "      <td>...</td>\n",
       "      <td>47</td>\n",
       "      <td>1017</td>\n",
       "      <td>1015</td>\n",
       "      <td>1012</td>\n",
       "      <td>5</td>\n",
       "      <td>4</td>\n",
       "      <td>1</td>\n",
       "      <td>23</td>\n",
       "      <td>11</td>\n",
       "      <td>0</td>\n",
       "    </tr>\n",
       "  </tbody>\n",
       "</table>\n",
       "<p>5 rows × 21 columns</p>\n",
       "</div>"
      ],
      "text/plain": [
       "   year  month  day  temp high  tempavg  temp low  DP high  DPavg  DP low  \\\n",
       "0  2008      1    1         24       21        18       17     15      12   \n",
       "1  2008      1    2         26       22        19       18     17      16   \n",
       "2  2008      1    3         25       21        18       16     16      13   \n",
       "3  2008      1    4         26       23        20       17     16      15   \n",
       "4  2008      1    5         26       21        17       17     15      14   \n",
       "\n",
       "   humidity high    ...     humidity low  SLP high  SLPavg  SLP low  \\\n",
       "0             83    ...               47      1015    1013     1011   \n",
       "1             88    ...               54      1016    1014     1012   \n",
       "2             88    ...               47      1017    1014     1006   \n",
       "3             83    ...               54      1016    1014     1013   \n",
       "4             88    ...               47      1017    1015     1012   \n",
       "\n",
       "   visibility high  visibilityavg  visibilitylow  wind high  windavg  Rainfall  \n",
       "0                5              4              1         19        8         0  \n",
       "1                5              4              1         11        2         0  \n",
       "2                5              4              0         19       10         1  \n",
       "3                5              5              4         14       11         0  \n",
       "4                5              4              1         23       11         0  \n",
       "\n",
       "[5 rows x 21 columns]"
      ]
     },
     "execution_count": 41,
     "metadata": {},
     "output_type": "execute_result"
    }
   ],
   "source": [
    "data=pd.read_csv('Rainfall_final.csv')\n",
    "data.head()"
   ]
  },
  {
   "cell_type": "code",
   "execution_count": 42,
   "metadata": {},
   "outputs": [
    {
     "data": {
      "text/plain": [
       "year               0\n",
       "month              0\n",
       "day                0\n",
       "temp high          0\n",
       "tempavg            0\n",
       "temp low           0\n",
       "DP high            0\n",
       "DPavg              0\n",
       "DP low             0\n",
       "humidity high      0\n",
       "humidity avg       0\n",
       "humidity low       0\n",
       "SLP high           0\n",
       "SLPavg             0\n",
       "SLP low            0\n",
       "visibility high    0\n",
       "visibilityavg      0\n",
       "visibilitylow      0\n",
       "wind high          0\n",
       "windavg            0\n",
       "Rainfall           0\n",
       "dtype: int64"
      ]
     },
     "execution_count": 42,
     "metadata": {},
     "output_type": "execute_result"
    }
   ],
   "source": [
    "data.isnull().sum()"
   ]
  },
  {
   "cell_type": "code",
   "execution_count": 43,
   "metadata": {},
   "outputs": [
    {
     "data": {
      "text/plain": [
       "(3604, 21)"
      ]
     },
     "execution_count": 43,
     "metadata": {},
     "output_type": "execute_result"
    }
   ],
   "source": [
    "data.shape"
   ]
  },
  {
   "cell_type": "code",
   "execution_count": 44,
   "metadata": {},
   "outputs": [],
   "source": [
    "x=data.drop(['Rainfall'], axis=1)\n",
    "y=data.Rainfall.values\n",
    "\n",
    "from sklearn.model_selection import train_test_split\n",
    "x_train, x_test, y_train, y_test = train_test_split(x, y, test_size= 0.25, random_state = 0)"
   ]
  },
  {
   "cell_type": "code",
   "execution_count": 45,
   "metadata": {},
   "outputs": [
    {
     "name": "stdout",
     "output_type": "stream",
     "text": [
      "confusion matrix:-\n",
      "[[449  83]\n",
      " [108 261]]\n",
      "accuracy score:- 0.7880133185349611\n",
      "classification report:-\n",
      "             precision    recall  f1-score   support\n",
      "\n",
      "          0       0.81      0.84      0.82       532\n",
      "          1       0.76      0.71      0.73       369\n",
      "\n",
      "avg / total       0.79      0.79      0.79       901\n",
      "\n"
     ]
    }
   ],
   "source": [
    "# Logistic Regression\n",
    "from sklearn.linear_model import LogisticRegression\n",
    "from sklearn import metrics \n",
    "logistic_regression = LogisticRegression()\n",
    "logistic_regression.fit(x_train,y_train)\n",
    "y_predlr = logistic_regression.predict(x_test)\n",
    "\n",
    "from sklearn.metrics import confusion_matrix,accuracy_score,classification_report\n",
    "print(\"confusion matrix:-\")\n",
    "print(confusion_matrix(y_test, y_predlr))\n",
    "print(\"accuracy score:-\",accuracy_score(y_test, y_predlr))\n",
    "\n",
    "print(\"classification report:-\")\n",
    "print(classification_report(y_test, y_predlr))"
   ]
  },
  {
   "cell_type": "code",
   "execution_count": 46,
   "metadata": {},
   "outputs": [
    {
     "name": "stdout",
     "output_type": "stream",
     "text": [
      "confusion matrix:-\n",
      "[[460  72]\n",
      " [113 256]]\n",
      "accuracy score:- 0.7946725860155383\n",
      "classification report:-\n",
      "             precision    recall  f1-score   support\n",
      "\n",
      "          0       0.80      0.86      0.83       532\n",
      "          1       0.78      0.69      0.73       369\n",
      "\n",
      "avg / total       0.79      0.79      0.79       901\n",
      "\n"
     ]
    }
   ],
   "source": [
    "# SVM\n",
    "\n",
    "from sklearn import svm\n",
    "clf = svm.SVC(kernel='linear') # Linear Kernel\n",
    "\n",
    "#Train the model using the training sets\n",
    "clf.fit(x_train, y_train)\n",
    "\n",
    "y_predsvc = clf.predict(x_test)\n",
    "from sklearn.metrics import confusion_matrix,accuracy_score,classification_report\n",
    "print(\"confusion matrix:-\")\n",
    "print(confusion_matrix(y_test, y_predsvc))\n",
    "print(\"accuracy score:-\",accuracy_score(y_test, y_predsvc))\n",
    "\n",
    "print(\"classification report:-\")\n",
    "print(classification_report(y_test, y_predsvc))"
   ]
  },
  {
   "cell_type": "code",
   "execution_count": 47,
   "metadata": {},
   "outputs": [
    {
     "name": "stdout",
     "output_type": "stream",
     "text": [
      "confusion matrix:-\n",
      "[[512  20]\n",
      " [307  62]]\n",
      "accuracy score:- 0.6370699223085461\n",
      "classification report:-\n",
      "             precision    recall  f1-score   support\n",
      "\n",
      "          0       0.63      0.96      0.76       532\n",
      "          1       0.76      0.17      0.27       369\n",
      "\n",
      "avg / total       0.68      0.64      0.56       901\n",
      "\n"
     ]
    }
   ],
   "source": [
    "# SVM with rbf\n",
    "\n",
    "from sklearn.svm import SVC\n",
    "rbfclassifier = SVC(kernel='rbf')\n",
    "rbfclassifier.fit(x_train, y_train)\n",
    "\n",
    "\n",
    "\n",
    "y_predksvc = rbfclassifier.predict(x_test)\n",
    "from sklearn.metrics import confusion_matrix,accuracy_score,classification_report\n",
    "print(\"confusion matrix:-\")\n",
    "print(confusion_matrix(y_test, y_predksvc))\n",
    "print(\"accuracy score:-\",accuracy_score(y_test, y_predksvc))\n",
    "\n",
    "print(\"classification report:-\")\n",
    "print(classification_report(y_test, y_predksvc))"
   ]
  },
  {
   "cell_type": "code",
   "execution_count": 48,
   "metadata": {},
   "outputs": [
    {
     "name": "stdout",
     "output_type": "stream",
     "text": [
      "confusion matrix:-\n",
      "[[532   0]\n",
      " [369   0]]\n",
      "accuracy score:- 0.5904550499445061\n",
      "classification report:-\n",
      "             precision    recall  f1-score   support\n",
      "\n",
      "          0       0.59      1.00      0.74       532\n",
      "          1       0.00      0.00      0.00       369\n",
      "\n",
      "avg / total       0.35      0.59      0.44       901\n",
      "\n"
     ]
    },
    {
     "name": "stderr",
     "output_type": "stream",
     "text": [
      "C:\\ProgramData\\Anaconda3\\lib\\site-packages\\sklearn\\metrics\\classification.py:1135: UndefinedMetricWarning: Precision and F-score are ill-defined and being set to 0.0 in labels with no predicted samples.\n",
      "  'precision', 'predicted', average, warn_for)\n"
     ]
    }
   ],
   "source": [
    "# SVM with sigmoid\n",
    "\n",
    "from sklearn.svm import SVC\n",
    "rbfclassifier = SVC(kernel='sigmoid')\n",
    "rbfclassifier.fit(x_train, y_train)\n",
    "\n",
    "\n",
    "\n",
    "y_predksvc = rbfclassifier.predict(x_test)\n",
    "from sklearn.metrics import confusion_matrix,accuracy_score,classification_report\n",
    "print(\"confusion matrix:-\")\n",
    "print(confusion_matrix(y_test, y_predksvc))\n",
    "print(\"accuracy score:-\",accuracy_score(y_test, y_predksvc))\n",
    "\n",
    "print(\"classification report:-\")\n",
    "print(classification_report(y_test, y_predksvc))"
   ]
  },
  {
   "cell_type": "code",
   "execution_count": 49,
   "metadata": {},
   "outputs": [
    {
     "name": "stdout",
     "output_type": "stream",
     "text": [
      "confusion matrix:-\n",
      "[[410 122]\n",
      " [ 95 274]]\n",
      "accuracy score:- 0.7591564927857936\n",
      "classification report:-\n",
      "             precision    recall  f1-score   support\n",
      "\n",
      "          0       0.81      0.77      0.79       532\n",
      "          1       0.69      0.74      0.72       369\n",
      "\n",
      "avg / total       0.76      0.76      0.76       901\n",
      "\n"
     ]
    }
   ],
   "source": [
    "# Decision Tree\n",
    "\n",
    "from sklearn.tree import DecisionTreeClassifier\n",
    "from sklearn.metrics import accuracy_score\n",
    "from sklearn import tree\n",
    "\n",
    "# Create Decision Tree classifer object\n",
    "clf = DecisionTreeClassifier()\n",
    "\n",
    "# Train Decision Tree Classifer\n",
    "clf = clf.fit(x_train,y_train)\n",
    "\n",
    "#Predict the response for test dataset\n",
    "y_pre = clf.predict(x_test)\n",
    "\n",
    "from sklearn.metrics import confusion_matrix,accuracy_score,classification_report\n",
    "print(\"confusion matrix:-\")\n",
    "print(confusion_matrix(y_test, y_pre))\n",
    "print(\"accuracy score:-\",accuracy_score(y_test, y_pre))\n",
    "\n",
    "print(\"classification report:-\")\n",
    "print(classification_report(y_test, y_pre))"
   ]
  },
  {
   "cell_type": "code",
   "execution_count": 50,
   "metadata": {},
   "outputs": [
    {
     "name": "stdout",
     "output_type": "stream",
     "text": [
      "confusion matrix:-\n",
      "[[423 109]\n",
      " [127 242]]\n",
      "accuracy score:- 0.7380688124306326\n",
      "classification report:-\n",
      "             precision    recall  f1-score   support\n",
      "\n",
      "          0       0.77      0.80      0.78       532\n",
      "          1       0.69      0.66      0.67       369\n",
      "\n",
      "avg / total       0.74      0.74      0.74       901\n",
      "\n"
     ]
    }
   ],
   "source": [
    "# KNN\n",
    "\n",
    "#Import knearest neighbors Classifier model\n",
    "from sklearn.neighbors import KNeighborsClassifier\n",
    "\n",
    "#Create KNN Classifier\n",
    "knn = KNeighborsClassifier(n_neighbors=5)\n",
    "\n",
    "#Train the model using the training sets\n",
    "knn.fit(x_train, y_train)\n",
    "\n",
    "#Predict the response for test dataset\n",
    "y_predknn = knn.predict(x_test)\n",
    "\n",
    "from sklearn.metrics import confusion_matrix,accuracy_score,classification_report\n",
    "print(\"confusion matrix:-\")\n",
    "print(confusion_matrix(y_test, y_predknn))\n",
    "print(\"accuracy score:-\",accuracy_score(y_test, y_predknn))\n",
    "\n",
    "print(\"classification report:-\")\n",
    "print(classification_report(y_test, y_predknn))"
   ]
  },
  {
   "cell_type": "markdown",
   "metadata": {},
   "source": [
    "Accuracy of different classifications :\n",
    "\n",
    "Logistic_Regression = 0.7880133185349611\n",
    "SVM with linear     = 0.7946725860155383\n",
    "SVM with rbf        = 0.6370699223085461\n",
    "SVM with sigmoid    = 0.5904550499445061\n",
    "Decision Tree       = 0.7502774694783574\n",
    "KNN                 = 0.7380688124306326"
   ]
  },
  {
   "cell_type": "code",
   "execution_count": null,
   "metadata": {},
   "outputs": [],
   "source": []
  }
 ],
 "metadata": {
  "kernelspec": {
   "display_name": "Python 3",
   "language": "python",
   "name": "python3"
  },
  "language_info": {
   "codemirror_mode": {
    "name": "ipython",
    "version": 3
   },
   "file_extension": ".py",
   "mimetype": "text/x-python",
   "name": "python",
   "nbconvert_exporter": "python",
   "pygments_lexer": "ipython3",
   "version": "3.7.0"
  }
 },
 "nbformat": 4,
 "nbformat_minor": 2
}
